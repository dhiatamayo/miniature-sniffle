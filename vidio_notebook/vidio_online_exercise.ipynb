{
 "cells": [
  {
   "cell_type": "markdown",
   "metadata": {},
   "source": [
    "# Vidio Data Science Online Exercise"
   ]
  },
  {
   "cell_type": "markdown",
   "metadata": {},
   "source": [
    "## Dhiatamayo Fadhlika"
   ]
  },
  {
   "cell_type": "markdown",
   "metadata": {},
   "source": [
    "### Question 1\n",
    "\n",
    "\n",
    "#### Conduct 1 exploratory data analysis from this dataset and present the exploratory, you could use presentation deck / docs / jupyter notebook. Using statistics method or ML model is a plus"
   ]
  },
  {
   "cell_type": "markdown",
   "metadata": {},
   "source": [
    "For this exercise, I'm gonna use the 1% plays dataset. First, I want to import the libraries and read the dataset file."
   ]
  },
  {
   "cell_type": "code",
   "execution_count": 229,
   "metadata": {},
   "outputs": [],
   "source": [
    "# import the libraries\n",
    "import numpy as np\n",
    "import pandas as pd\n",
    "import matplotlib as plt"
   ]
  },
  {
   "cell_type": "code",
   "execution_count": 230,
   "metadata": {},
   "outputs": [
    {
     "name": "stderr",
     "output_type": "stream",
     "text": [
      "/usr/local/lib/python3.9/site-packages/IPython/core/interactiveshell.py:3398: FutureWarning: The error_bad_lines argument has been deprecated and will be removed in a future version.\n",
      "\n",
      "\n",
      "  exec(code_obj, self.user_global_ns, self.user_ns)\n",
      "b'Skipping line 23509: expected 41 fields, saw 43\\n'\n",
      "b'Skipping line 36946: expected 41 fields, saw 42\\nSkipping line 43788: expected 41 fields, saw 42\\nSkipping line 45437: expected 41 fields, saw 49\\n'\n",
      "b'Skipping line 52141: expected 41 fields, saw 42\\n'\n",
      "b'Skipping line 73470: expected 41 fields, saw 42\\nSkipping line 75103: expected 41 fields, saw 42\\n'\n",
      "b'Skipping line 87928: expected 41 fields, saw 42\\n'\n",
      "b'Skipping line 98453: expected 41 fields, saw 42\\nSkipping line 98771: expected 41 fields, saw 42\\nSkipping line 101047: expected 41 fields, saw 42\\nSkipping line 104676: expected 41 fields, saw 42\\n'\n",
      "/usr/local/lib/python3.9/site-packages/IPython/core/interactiveshell.py:3398: DtypeWarning: Columns (20) have mixed types.Specify dtype option on import or set low_memory=False.\n",
      "  exec(code_obj, self.user_global_ns, self.user_ns)\n"
     ]
    },
    {
     "data": {
      "text/html": [
       "<div>\n",
       "<style scoped>\n",
       "    .dataframe tbody tr th:only-of-type {\n",
       "        vertical-align: middle;\n",
       "    }\n",
       "\n",
       "    .dataframe tbody tr th {\n",
       "        vertical-align: top;\n",
       "    }\n",
       "\n",
       "    .dataframe thead th {\n",
       "        text-align: right;\n",
       "    }\n",
       "</style>\n",
       "<table border=\"1\" class=\"dataframe\">\n",
       "  <thead>\n",
       "    <tr style=\"text-align: right;\">\n",
       "      <th></th>\n",
       "      <th>hash_content_id</th>\n",
       "      <th>hash_play_id</th>\n",
       "      <th>hash_visit_id</th>\n",
       "      <th>hash_watcher_id</th>\n",
       "      <th>hash_film_id</th>\n",
       "      <th>hash_event_id</th>\n",
       "      <th>is_login</th>\n",
       "      <th>playback_location</th>\n",
       "      <th>platform</th>\n",
       "      <th>play_time</th>\n",
       "      <th>...</th>\n",
       "      <th>app_version</th>\n",
       "      <th>city</th>\n",
       "      <th>play_duration</th>\n",
       "      <th>content_type</th>\n",
       "      <th>stream_type</th>\n",
       "      <th>title</th>\n",
       "      <th>category_name</th>\n",
       "      <th>film_title</th>\n",
       "      <th>season_name</th>\n",
       "      <th>genre_name</th>\n",
       "    </tr>\n",
       "  </thead>\n",
       "  <tbody>\n",
       "    <tr>\n",
       "      <th>0</th>\n",
       "      <td>0096dafb1049ee942e8e7cbad5abf4a46dc92e3995caac...</td>\n",
       "      <td>0162f124f5bd61592d9bca6aaa3b1b6097a00b62ef33c9...</td>\n",
       "      <td>27dfffe2bb74f8767caeb64ac4c92e9eaf4b11a28ef7e1...</td>\n",
       "      <td>e7c2138fd9d4047356066a01de46fc22ee9955a6fd6679...</td>\n",
       "      <td>NaN</td>\n",
       "      <td>c81bd64a212d3b5cb227499a6b4a3dc607748ae5133e48...</td>\n",
       "      <td>False</td>\n",
       "      <td>embed</td>\n",
       "      <td>web-mobile</td>\n",
       "      <td>2020-02-02T10:21:20.000Z</td>\n",
       "      <td>...</td>\n",
       "      <td>NaN</td>\n",
       "      <td>NaN</td>\n",
       "      <td>0</td>\n",
       "      <td>vod</td>\n",
       "      <td>NaN</td>\n",
       "      <td>Kiprah Eks Pemain Juventus yang Dikaitkan deng...</td>\n",
       "      <td>Sports</td>\n",
       "      <td>NaN</td>\n",
       "      <td>NaN</td>\n",
       "      <td>NaN</td>\n",
       "    </tr>\n",
       "    <tr>\n",
       "      <th>1</th>\n",
       "      <td>01ddda2f8667719625bd0afa58537fd95a166c93233b8b...</td>\n",
       "      <td>5f6c722782c919a9cb6254e94086462a6c34794dc741b6...</td>\n",
       "      <td>90b2b454e70a2c13cf9e8ca987d7c4f914c7d819532c5d...</td>\n",
       "      <td>d265ea2b8df584c51de3b2c6aebb6a0415384a18d1a148...</td>\n",
       "      <td>NaN</td>\n",
       "      <td>90a514e451e400c4c32ac42815920a66c500c1c2ea347d...</td>\n",
       "      <td>False</td>\n",
       "      <td>embed</td>\n",
       "      <td>web-mobile</td>\n",
       "      <td>2020-02-02T12:17:33.000Z</td>\n",
       "      <td>...</td>\n",
       "      <td>NaN</td>\n",
       "      <td>NaN</td>\n",
       "      <td>19</td>\n",
       "      <td>vod</td>\n",
       "      <td>NaN</td>\n",
       "      <td>Pindah ke Inter Milan, Christian Eriksen Jadi ...</td>\n",
       "      <td>Sports</td>\n",
       "      <td>NaN</td>\n",
       "      <td>NaN</td>\n",
       "      <td>NaN</td>\n",
       "    </tr>\n",
       "    <tr>\n",
       "      <th>2</th>\n",
       "      <td>01ddda2f8667719625bd0afa58537fd95a166c93233b8b...</td>\n",
       "      <td>66c32aa6aa6a63f7d85d1bd1b8b6b295477c88794888d8...</td>\n",
       "      <td>f79cab25855841a83e6aa01eccbf3d167491a868977b77...</td>\n",
       "      <td>d2585a4b468b7cdbebc053ffc5b49cebd58d6e738bccdd...</td>\n",
       "      <td>NaN</td>\n",
       "      <td>c278001db02102ece22d428b9235332856cba4754b63a0...</td>\n",
       "      <td>False</td>\n",
       "      <td>embed</td>\n",
       "      <td>web-mobile</td>\n",
       "      <td>2020-02-02T01:26:42.000Z</td>\n",
       "      <td>...</td>\n",
       "      <td>NaN</td>\n",
       "      <td>NaN</td>\n",
       "      <td>24</td>\n",
       "      <td>vod</td>\n",
       "      <td>NaN</td>\n",
       "      <td>Pindah ke Inter Milan, Christian Eriksen Jadi ...</td>\n",
       "      <td>Sports</td>\n",
       "      <td>NaN</td>\n",
       "      <td>NaN</td>\n",
       "      <td>NaN</td>\n",
       "    </tr>\n",
       "    <tr>\n",
       "      <th>3</th>\n",
       "      <td>01e34cb2658d0461f220bda493cb38427eef7de1e23e6e...</td>\n",
       "      <td>38976454aec1c7ff4ca0a35df8821db29227443352e705...</td>\n",
       "      <td>f23800acfeede429803cb2a1380ca7652067fb35d079a8...</td>\n",
       "      <td>bba3183af4f6c29d97dce6ee557561e3feef31d19ae9ab...</td>\n",
       "      <td>NaN</td>\n",
       "      <td>ed0731e9861306e6e26cf3cfb5a43da6b0e19af3ff3ff5...</td>\n",
       "      <td>False</td>\n",
       "      <td>embed</td>\n",
       "      <td>web-mobile</td>\n",
       "      <td>2020-02-02T13:45:05.000Z</td>\n",
       "      <td>...</td>\n",
       "      <td>NaN</td>\n",
       "      <td>NaN</td>\n",
       "      <td>0</td>\n",
       "      <td>vod</td>\n",
       "      <td>NaN</td>\n",
       "      <td>5 Kelebihan Mikel Arteta Menurut Pep Guardiola</td>\n",
       "      <td>Sports</td>\n",
       "      <td>NaN</td>\n",
       "      <td>NaN</td>\n",
       "      <td>NaN</td>\n",
       "    </tr>\n",
       "    <tr>\n",
       "      <th>4</th>\n",
       "      <td>01e34cb2658d0461f220bda493cb38427eef7de1e23e6e...</td>\n",
       "      <td>4b4ee4aa4c37519250aa6efbd78e789b40d976474a1c37...</td>\n",
       "      <td>b058895b6fce58bcfbd72bfd7a3dfa4ae01d094e21c976...</td>\n",
       "      <td>317ecdb779c3ba5bdc1818405aaafebcef35e9582c42e5...</td>\n",
       "      <td>NaN</td>\n",
       "      <td>3679f65950032d6bff1323df5b29292adad99918d616ae...</td>\n",
       "      <td>False</td>\n",
       "      <td>embed</td>\n",
       "      <td>web-desktop</td>\n",
       "      <td>2020-02-02T13:23:40.000Z</td>\n",
       "      <td>...</td>\n",
       "      <td>NaN</td>\n",
       "      <td>NaN</td>\n",
       "      <td>4</td>\n",
       "      <td>vod</td>\n",
       "      <td>NaN</td>\n",
       "      <td>5 Kelebihan Mikel Arteta Menurut Pep Guardiola</td>\n",
       "      <td>Sports</td>\n",
       "      <td>NaN</td>\n",
       "      <td>NaN</td>\n",
       "      <td>NaN</td>\n",
       "    </tr>\n",
       "  </tbody>\n",
       "</table>\n",
       "<p>5 rows × 41 columns</p>\n",
       "</div>"
      ],
      "text/plain": [
       "                                     hash_content_id  \\\n",
       "0  0096dafb1049ee942e8e7cbad5abf4a46dc92e3995caac...   \n",
       "1  01ddda2f8667719625bd0afa58537fd95a166c93233b8b...   \n",
       "2  01ddda2f8667719625bd0afa58537fd95a166c93233b8b...   \n",
       "3  01e34cb2658d0461f220bda493cb38427eef7de1e23e6e...   \n",
       "4  01e34cb2658d0461f220bda493cb38427eef7de1e23e6e...   \n",
       "\n",
       "                                        hash_play_id  \\\n",
       "0  0162f124f5bd61592d9bca6aaa3b1b6097a00b62ef33c9...   \n",
       "1  5f6c722782c919a9cb6254e94086462a6c34794dc741b6...   \n",
       "2  66c32aa6aa6a63f7d85d1bd1b8b6b295477c88794888d8...   \n",
       "3  38976454aec1c7ff4ca0a35df8821db29227443352e705...   \n",
       "4  4b4ee4aa4c37519250aa6efbd78e789b40d976474a1c37...   \n",
       "\n",
       "                                       hash_visit_id  \\\n",
       "0  27dfffe2bb74f8767caeb64ac4c92e9eaf4b11a28ef7e1...   \n",
       "1  90b2b454e70a2c13cf9e8ca987d7c4f914c7d819532c5d...   \n",
       "2  f79cab25855841a83e6aa01eccbf3d167491a868977b77...   \n",
       "3  f23800acfeede429803cb2a1380ca7652067fb35d079a8...   \n",
       "4  b058895b6fce58bcfbd72bfd7a3dfa4ae01d094e21c976...   \n",
       "\n",
       "                                     hash_watcher_id hash_film_id  \\\n",
       "0  e7c2138fd9d4047356066a01de46fc22ee9955a6fd6679...          NaN   \n",
       "1  d265ea2b8df584c51de3b2c6aebb6a0415384a18d1a148...          NaN   \n",
       "2  d2585a4b468b7cdbebc053ffc5b49cebd58d6e738bccdd...          NaN   \n",
       "3  bba3183af4f6c29d97dce6ee557561e3feef31d19ae9ab...          NaN   \n",
       "4  317ecdb779c3ba5bdc1818405aaafebcef35e9582c42e5...          NaN   \n",
       "\n",
       "                                       hash_event_id  is_login  \\\n",
       "0  c81bd64a212d3b5cb227499a6b4a3dc607748ae5133e48...     False   \n",
       "1  90a514e451e400c4c32ac42815920a66c500c1c2ea347d...     False   \n",
       "2  c278001db02102ece22d428b9235332856cba4754b63a0...     False   \n",
       "3  ed0731e9861306e6e26cf3cfb5a43da6b0e19af3ff3ff5...     False   \n",
       "4  3679f65950032d6bff1323df5b29292adad99918d616ae...     False   \n",
       "\n",
       "  playback_location     platform                 play_time  ... app_version  \\\n",
       "0             embed   web-mobile  2020-02-02T10:21:20.000Z  ...         NaN   \n",
       "1             embed   web-mobile  2020-02-02T12:17:33.000Z  ...         NaN   \n",
       "2             embed   web-mobile  2020-02-02T01:26:42.000Z  ...         NaN   \n",
       "3             embed   web-mobile  2020-02-02T13:45:05.000Z  ...         NaN   \n",
       "4             embed  web-desktop  2020-02-02T13:23:40.000Z  ...         NaN   \n",
       "\n",
       "  city  play_duration content_type  stream_type  \\\n",
       "0  NaN              0          vod          NaN   \n",
       "1  NaN             19          vod          NaN   \n",
       "2  NaN             24          vod          NaN   \n",
       "3  NaN              0          vod          NaN   \n",
       "4  NaN              4          vod          NaN   \n",
       "\n",
       "                                               title category_name film_title  \\\n",
       "0  Kiprah Eks Pemain Juventus yang Dikaitkan deng...        Sports        NaN   \n",
       "1  Pindah ke Inter Milan, Christian Eriksen Jadi ...        Sports        NaN   \n",
       "2  Pindah ke Inter Milan, Christian Eriksen Jadi ...        Sports        NaN   \n",
       "3     5 Kelebihan Mikel Arteta Menurut Pep Guardiola        Sports        NaN   \n",
       "4     5 Kelebihan Mikel Arteta Menurut Pep Guardiola        Sports        NaN   \n",
       "\n",
       "  season_name genre_name  \n",
       "0         NaN        NaN  \n",
       "1         NaN        NaN  \n",
       "2         NaN        NaN  \n",
       "3         NaN        NaN  \n",
       "4         NaN        NaN  \n",
       "\n",
       "[5 rows x 41 columns]"
      ]
     },
     "execution_count": 230,
     "metadata": {},
     "output_type": "execute_result"
    }
   ],
   "source": [
    "# read the 1% plays dataset file\n",
    "path = 'vidio_dataset_1percent.csv'\n",
    "df = pd.read_csv(path, error_bad_lines=False)\n",
    "df.head()"
   ]
  },
  {
   "cell_type": "markdown",
   "metadata": {},
   "source": [
    "Next, I want to convert the {True, False} values inside the columns as {1,0} to make it easier to read."
   ]
  },
  {
   "cell_type": "code",
   "execution_count": 231,
   "metadata": {},
   "outputs": [],
   "source": [
    "# convert boolean type to number\n",
    "df.replace({False: 0, True: 1}, inplace=True)"
   ]
  },
  {
   "cell_type": "markdown",
   "metadata": {},
   "source": [
    "I need to check if there's any null value in the dataframe columns. I don't want to use columns with null values for this exploratory data analysis because it might produce inconsistent results."
   ]
  },
  {
   "cell_type": "code",
   "execution_count": 232,
   "metadata": {},
   "outputs": [
    {
     "data": {
      "text/plain": [
       "hash_content_id           0\n",
       "hash_play_id              0\n",
       "hash_visit_id             0\n",
       "hash_watcher_id           0\n",
       "hash_film_id         100993\n",
       "hash_event_id             0\n",
       "is_login                  0\n",
       "playback_location         0\n",
       "platform                  0\n",
       "play_time                 0\n",
       "end_time                  0\n",
       "referrer               5761\n",
       "average_bitrate        4946\n",
       "bitrate_range             0\n",
       "total_bytes               0\n",
       "buffer_duration           0\n",
       "referrer_group            0\n",
       "completed             38937\n",
       "utm_source           106724\n",
       "utm_medium           106724\n",
       "utm_campaign         106773\n",
       "player_name            3267\n",
       "has_ad                    0\n",
       "flash_version         34850\n",
       "os_name               33725\n",
       "os_version              405\n",
       "browser_name          33666\n",
       "browser_version       36038\n",
       "app_name                  0\n",
       "autoplay              38960\n",
       "is_premium                0\n",
       "app_version           72129\n",
       "city                 106811\n",
       "play_duration             0\n",
       "content_type              0\n",
       "stream_type           67874\n",
       "title                     0\n",
       "category_name         38937\n",
       "film_title           100995\n",
       "season_name          100993\n",
       "genre_name           101586\n",
       "dtype: int64"
      ]
     },
     "execution_count": 232,
     "metadata": {},
     "output_type": "execute_result"
    }
   ],
   "source": [
    "# check null values\n",
    "df.isnull().sum()"
   ]
  },
  {
   "cell_type": "markdown",
   "metadata": {},
   "source": [
    "We have a lot of null values in the dataframe, but some of the columns have no null values at all. I'm gonna list those columns before proceeding to make the EDA."
   ]
  },
  {
   "cell_type": "code",
   "execution_count": 233,
   "metadata": {},
   "outputs": [
    {
     "data": {
      "text/plain": [
       "['hash_content_id',\n",
       " 'hash_play_id',\n",
       " 'hash_visit_id',\n",
       " 'hash_watcher_id',\n",
       " 'hash_event_id',\n",
       " 'is_login',\n",
       " 'playback_location',\n",
       " 'platform',\n",
       " 'play_time',\n",
       " 'end_time',\n",
       " 'bitrate_range',\n",
       " 'total_bytes',\n",
       " 'buffer_duration',\n",
       " 'referrer_group',\n",
       " 'has_ad',\n",
       " 'app_name',\n",
       " 'is_premium',\n",
       " 'play_duration',\n",
       " 'content_type',\n",
       " 'title']"
      ]
     },
     "execution_count": 233,
     "metadata": {},
     "output_type": "execute_result"
    }
   ],
   "source": [
    "# check columns with null values\n",
    "list(i for i in df.columns if df[i].isnull().sum() == 0) "
   ]
  },
  {
   "cell_type": "markdown",
   "metadata": {},
   "source": [
    "After looking at the columns that have no null values, I decided to make Exploratory Data Analysis for this dataset using is_login, is_premium, and play_duration columns. The general idea behind this is, first, I wanted to know the relationship between users that logged in and whether the user has premium subscription or not. After that, we can see if there's any relationship between premium/non-premium user and their play_duration."
   ]
  },
  {
   "cell_type": "code",
   "execution_count": 234,
   "metadata": {},
   "outputs": [],
   "source": [
    "# make a new dataframe with selected columns\n",
    "df_eda = df[['is_login', 'is_premium', 'play_duration']]"
   ]
  },
  {
   "cell_type": "code",
   "execution_count": 235,
   "metadata": {},
   "outputs": [
    {
     "data": {
      "text/plain": [
       "0    23649\n",
       "1      909\n",
       "Name: is_premium, dtype: int64"
      ]
     },
     "execution_count": 235,
     "metadata": {},
     "output_type": "execute_result"
    }
   ],
   "source": [
    "# make a new dataframe with is_login == 1 (True)\n",
    "df_login = df_eda[df_eda.is_login == 1]\n",
    "# count the premium and non-premium users\n",
    "df_login['is_premium'].value_counts()"
   ]
  },
  {
   "cell_type": "code",
   "execution_count": 236,
   "metadata": {},
   "outputs": [
    {
     "data": {
      "text/html": [
       "<div>\n",
       "<style scoped>\n",
       "    .dataframe tbody tr th:only-of-type {\n",
       "        vertical-align: middle;\n",
       "    }\n",
       "\n",
       "    .dataframe tbody tr th {\n",
       "        vertical-align: top;\n",
       "    }\n",
       "\n",
       "    .dataframe thead th {\n",
       "        text-align: right;\n",
       "    }\n",
       "</style>\n",
       "<table border=\"1\" class=\"dataframe\">\n",
       "  <thead>\n",
       "    <tr style=\"text-align: right;\">\n",
       "      <th></th>\n",
       "      <th>is_premium</th>\n",
       "      <th>play_duration</th>\n",
       "      <th>%</th>\n",
       "    </tr>\n",
       "  </thead>\n",
       "  <tbody>\n",
       "    <tr>\n",
       "      <th>0</th>\n",
       "      <td>0</td>\n",
       "      <td>20121895</td>\n",
       "      <td>93.752432</td>\n",
       "    </tr>\n",
       "    <tr>\n",
       "      <th>1</th>\n",
       "      <td>1</td>\n",
       "      <td>1340903</td>\n",
       "      <td>6.247568</td>\n",
       "    </tr>\n",
       "  </tbody>\n",
       "</table>\n",
       "</div>"
      ],
      "text/plain": [
       "   is_premium  play_duration          %\n",
       "0           0       20121895  93.752432\n",
       "1           1        1340903   6.247568"
      ]
     },
     "execution_count": 236,
     "metadata": {},
     "output_type": "execute_result"
    }
   ],
   "source": [
    "# group the new dataframe by is_premium values\n",
    "cat_df_1 = df_login.groupby('is_premium').play_duration.sum().reset_index().sort_values(by='play_duration', ascending=False)\n",
    "# add percentage column for better understanding\n",
    "cat_df_1['%'] = 100 * cat_df_1['play_duration'] / cat_df_1['play_duration'].sum()\n",
    "cat_df_1"
   ]
  },
  {
   "cell_type": "code",
   "execution_count": 237,
   "metadata": {},
   "outputs": [
    {
     "data": {
      "text/plain": [
       "<AxesSubplot:xlabel='is_premium'>"
      ]
     },
     "execution_count": 237,
     "metadata": {},
     "output_type": "execute_result"
    },
    {
     "data": {
      "image/png": "[encoded data removed]",
      "text/plain": [
       "<Figure size 432x288 with 1 Axes>"
      ]
     },
     "metadata": {
      "needs_background": "light"
     },
     "output_type": "display_data"
    }
   ],
   "source": [
    "# plot chart for better presentation\n",
    "df_login.groupby('is_premium').play_duration.sum().plot(kind='bar')"
   ]
  },
  {
   "cell_type": "markdown",
   "metadata": {},
   "source": [
    "As we can see from chart above, we have an outstanding gap for duration of content played between non-premium and premium users (93.75% and 6.25%, non-premium and premium respectively). It is expected because we have a lot more non-premium users. "
   ]
  },
  {
   "cell_type": "markdown",
   "metadata": {},
   "source": [
    "Now, I want to know the relationship between users login behavior and play_duration.  "
   ]
  },
  {
   "cell_type": "code",
   "execution_count": 238,
   "metadata": {},
   "outputs": [
    {
     "data": {
      "text/html": [
       "<div>\n",
       "<style scoped>\n",
       "    .dataframe tbody tr th:only-of-type {\n",
       "        vertical-align: middle;\n",
       "    }\n",
       "\n",
       "    .dataframe tbody tr th {\n",
       "        vertical-align: top;\n",
       "    }\n",
       "\n",
       "    .dataframe thead th {\n",
       "        text-align: right;\n",
       "    }\n",
       "</style>\n",
       "<table border=\"1\" class=\"dataframe\">\n",
       "  <thead>\n",
       "    <tr style=\"text-align: right;\">\n",
       "      <th></th>\n",
       "      <th>is_login</th>\n",
       "      <th>play_duration</th>\n",
       "      <th>%</th>\n",
       "    </tr>\n",
       "  </thead>\n",
       "  <tbody>\n",
       "    <tr>\n",
       "      <th>0</th>\n",
       "      <td>0</td>\n",
       "      <td>23978003</td>\n",
       "      <td>52.767562</td>\n",
       "    </tr>\n",
       "    <tr>\n",
       "      <th>1</th>\n",
       "      <td>1</td>\n",
       "      <td>21462798</td>\n",
       "      <td>47.232438</td>\n",
       "    </tr>\n",
       "  </tbody>\n",
       "</table>\n",
       "</div>"
      ],
      "text/plain": [
       "   is_login  play_duration          %\n",
       "0         0       23978003  52.767562\n",
       "1         1       21462798  47.232438"
      ]
     },
     "execution_count": 238,
     "metadata": {},
     "output_type": "execute_result"
    }
   ],
   "source": [
    "# group by play_duration\n",
    "cat_df_2 = df_eda.groupby('is_login').play_duration.sum().reset_index().sort_values(by='play_duration', ascending=False)\n",
    "# add percentage column for better understanding\n",
    "cat_df_2['%'] = 100 * cat_df_2['play_duration'] / cat_df_2['play_duration'].sum()\n",
    "cat_df_2\n"
   ]
  },
  {
   "cell_type": "code",
   "execution_count": 239,
   "metadata": {},
   "outputs": [
    {
     "data": {
      "text/plain": [
       "<AxesSubplot:xlabel='is_login'>"
      ]
     },
     "execution_count": 239,
     "metadata": {},
     "output_type": "execute_result"
    },
    {
     "data": {
      "image/png": "[encoded data removed]",
      "text/plain": [
       "<Figure size 432x288 with 1 Axes>"
      ]
     },
     "metadata": {
      "needs_background": "light"
     },
     "output_type": "display_data"
    }
   ],
   "source": [
    "# plot chart for better presentation\n",
    "df_eda.groupby('is_login').play_duration.sum().plot(kind='bar')"
   ]
  },
  {
   "cell_type": "markdown",
   "metadata": {},
   "source": [
    "As we can see from chart above, we have a neck-and-neck total play_duration between not logged in and logged in users (52.77% and 47.23%). From this exploratory analysis, what would be a good takeout is that, we have more users that did not log in to watch vidio content."
   ]
  },
  {
   "cell_type": "markdown",
   "metadata": {},
   "source": [
    "### Question 2\n",
    "\n",
    "\n",
    "#### After conducting the Exploratory Analysis, what kind of insight that you could extract from this datasets? If you could tell us a stories around this data, it is a plus"
   ]
  },
  {
   "cell_type": "markdown",
   "metadata": {},
   "source": [
    "So after we looked at the tables from question 1, the summary is:\n",
    "- An outstanding gap for play_duration between non-premium and premium users\n",
    "- A neck-and-neck total play_duration between not logged in and logged in users\n",
    "\n",
    "\n",
    "Assuming the 1% dataset could represent the whole dataset, the ideas that I can present is how can we improve premium users in vidio, in order to balance out the total play_duration between non-premium and premium users and also increase the play_duration for logged in users. The approach that we can take is by knowing what category of content that most non-premium users watch, and then compare them to premium users. From this approach, we can conduct strategies to increase the amount of premium users by improving contents based on category."
   ]
  },
  {
   "cell_type": "markdown",
   "metadata": {},
   "source": [
    "First, we have to find out the most watched category by non-premium users."
   ]
  },
  {
   "cell_type": "code",
   "execution_count": 240,
   "metadata": {},
   "outputs": [
    {
     "data": {
      "text/html": [
       "<div>\n",
       "<style scoped>\n",
       "    .dataframe tbody tr th:only-of-type {\n",
       "        vertical-align: middle;\n",
       "    }\n",
       "\n",
       "    .dataframe tbody tr th {\n",
       "        vertical-align: top;\n",
       "    }\n",
       "\n",
       "    .dataframe thead th {\n",
       "        text-align: right;\n",
       "    }\n",
       "</style>\n",
       "<table border=\"1\" class=\"dataframe\">\n",
       "  <thead>\n",
       "    <tr style=\"text-align: right;\">\n",
       "      <th></th>\n",
       "      <th>is_login</th>\n",
       "      <th>is_premium</th>\n",
       "      <th>play_duration</th>\n",
       "      <th>category_name</th>\n",
       "    </tr>\n",
       "  </thead>\n",
       "  <tbody>\n",
       "    <tr>\n",
       "      <th>6</th>\n",
       "      <td>1</td>\n",
       "      <td>0</td>\n",
       "      <td>0</td>\n",
       "      <td>TV Show</td>\n",
       "    </tr>\n",
       "    <tr>\n",
       "      <th>23</th>\n",
       "      <td>1</td>\n",
       "      <td>0</td>\n",
       "      <td>3448</td>\n",
       "      <td>TV Show</td>\n",
       "    </tr>\n",
       "    <tr>\n",
       "      <th>31</th>\n",
       "      <td>1</td>\n",
       "      <td>0</td>\n",
       "      <td>15</td>\n",
       "      <td>NaN</td>\n",
       "    </tr>\n",
       "    <tr>\n",
       "      <th>33</th>\n",
       "      <td>1</td>\n",
       "      <td>0</td>\n",
       "      <td>15</td>\n",
       "      <td>NaN</td>\n",
       "    </tr>\n",
       "    <tr>\n",
       "      <th>36</th>\n",
       "      <td>1</td>\n",
       "      <td>0</td>\n",
       "      <td>60</td>\n",
       "      <td>NaN</td>\n",
       "    </tr>\n",
       "    <tr>\n",
       "      <th>...</th>\n",
       "      <td>...</td>\n",
       "      <td>...</td>\n",
       "      <td>...</td>\n",
       "      <td>...</td>\n",
       "    </tr>\n",
       "    <tr>\n",
       "      <th>106802</th>\n",
       "      <td>1</td>\n",
       "      <td>0</td>\n",
       "      <td>165</td>\n",
       "      <td>NaN</td>\n",
       "    </tr>\n",
       "    <tr>\n",
       "      <th>106804</th>\n",
       "      <td>1</td>\n",
       "      <td>0</td>\n",
       "      <td>60</td>\n",
       "      <td>NaN</td>\n",
       "    </tr>\n",
       "    <tr>\n",
       "      <th>106805</th>\n",
       "      <td>1</td>\n",
       "      <td>0</td>\n",
       "      <td>120</td>\n",
       "      <td>NaN</td>\n",
       "    </tr>\n",
       "    <tr>\n",
       "      <th>106808</th>\n",
       "      <td>1</td>\n",
       "      <td>0</td>\n",
       "      <td>30</td>\n",
       "      <td>NaN</td>\n",
       "    </tr>\n",
       "    <tr>\n",
       "      <th>106810</th>\n",
       "      <td>1</td>\n",
       "      <td>0</td>\n",
       "      <td>805</td>\n",
       "      <td>Music</td>\n",
       "    </tr>\n",
       "  </tbody>\n",
       "</table>\n",
       "<p>24558 rows × 4 columns</p>\n",
       "</div>"
      ],
      "text/plain": [
       "        is_login  is_premium  play_duration category_name\n",
       "6              1           0              0       TV Show\n",
       "23             1           0           3448       TV Show\n",
       "31             1           0             15           NaN\n",
       "33             1           0             15           NaN\n",
       "36             1           0             60           NaN\n",
       "...          ...         ...            ...           ...\n",
       "106802         1           0            165           NaN\n",
       "106804         1           0             60           NaN\n",
       "106805         1           0            120           NaN\n",
       "106808         1           0             30           NaN\n",
       "106810         1           0            805         Music\n",
       "\n",
       "[24558 rows x 4 columns]"
      ]
     },
     "execution_count": 240,
     "metadata": {},
     "output_type": "execute_result"
    }
   ],
   "source": [
    "# make new dataframe\n",
    "df_eda_2 = df[['is_login', 'is_premium', 'play_duration', 'category_name']]\n",
    "# update dataframe to login == 1\n",
    "df_eda_2 = df_eda_2[df_eda_2.is_login==1]\n",
    "df_eda_2"
   ]
  },
  {
   "cell_type": "markdown",
   "metadata": {},
   "source": [
    "A little note here, as we can see from table above, category_name may contain a lot of Null/NaN values. It may cause inconsistency of the result. But, we have to assume the dataset could represent the whole dataset, so we have to ignore the Null values in order to come up with conclusions that offer insights from this Exploratory Data Analysis."
   ]
  },
  {
   "cell_type": "code",
   "execution_count": 241,
   "metadata": {},
   "outputs": [
    {
     "data": {
      "text/html": [
       "<div>\n",
       "<style scoped>\n",
       "    .dataframe tbody tr th:only-of-type {\n",
       "        vertical-align: middle;\n",
       "    }\n",
       "\n",
       "    .dataframe tbody tr th {\n",
       "        vertical-align: top;\n",
       "    }\n",
       "\n",
       "    .dataframe thead th {\n",
       "        text-align: right;\n",
       "    }\n",
       "</style>\n",
       "<table border=\"1\" class=\"dataframe\">\n",
       "  <thead>\n",
       "    <tr style=\"text-align: right;\">\n",
       "      <th></th>\n",
       "      <th>category_name</th>\n",
       "      <th>play_duration</th>\n",
       "    </tr>\n",
       "  </thead>\n",
       "  <tbody>\n",
       "    <tr>\n",
       "      <th>12</th>\n",
       "      <td>TV Show</td>\n",
       "      <td>5200823</td>\n",
       "    </tr>\n",
       "    <tr>\n",
       "      <th>8</th>\n",
       "      <td>Movies</td>\n",
       "      <td>2922662</td>\n",
       "    </tr>\n",
       "    <tr>\n",
       "      <th>9</th>\n",
       "      <td>Music</td>\n",
       "      <td>870600</td>\n",
       "    </tr>\n",
       "    <tr>\n",
       "      <th>13</th>\n",
       "      <td>Vlog</td>\n",
       "      <td>598750</td>\n",
       "    </tr>\n",
       "    <tr>\n",
       "      <th>2</th>\n",
       "      <td>Entertainment</td>\n",
       "      <td>275807</td>\n",
       "    </tr>\n",
       "    <tr>\n",
       "      <th>11</th>\n",
       "      <td>Sports</td>\n",
       "      <td>24726</td>\n",
       "    </tr>\n",
       "    <tr>\n",
       "      <th>10</th>\n",
       "      <td>News</td>\n",
       "      <td>24305</td>\n",
       "    </tr>\n",
       "    <tr>\n",
       "      <th>5</th>\n",
       "      <td>Kids</td>\n",
       "      <td>13190</td>\n",
       "    </tr>\n",
       "    <tr>\n",
       "      <th>6</th>\n",
       "      <td>Korea</td>\n",
       "      <td>11112</td>\n",
       "    </tr>\n",
       "    <tr>\n",
       "      <th>0</th>\n",
       "      <td>Champions</td>\n",
       "      <td>4401</td>\n",
       "    </tr>\n",
       "    <tr>\n",
       "      <th>14</th>\n",
       "      <td>Webtoon</td>\n",
       "      <td>1832</td>\n",
       "    </tr>\n",
       "    <tr>\n",
       "      <th>7</th>\n",
       "      <td>Lifestyle</td>\n",
       "      <td>1755</td>\n",
       "    </tr>\n",
       "    <tr>\n",
       "      <th>3</th>\n",
       "      <td>Funny</td>\n",
       "      <td>1056</td>\n",
       "    </tr>\n",
       "    <tr>\n",
       "      <th>1</th>\n",
       "      <td>Education</td>\n",
       "      <td>871</td>\n",
       "    </tr>\n",
       "    <tr>\n",
       "      <th>4</th>\n",
       "      <td>Horror</td>\n",
       "      <td>380</td>\n",
       "    </tr>\n",
       "  </tbody>\n",
       "</table>\n",
       "</div>"
      ],
      "text/plain": [
       "    category_name  play_duration\n",
       "12        TV Show        5200823\n",
       "8          Movies        2922662\n",
       "9           Music         870600\n",
       "13           Vlog         598750\n",
       "2   Entertainment         275807\n",
       "11         Sports          24726\n",
       "10           News          24305\n",
       "5            Kids          13190\n",
       "6           Korea          11112\n",
       "0       Champions           4401\n",
       "14        Webtoon           1832\n",
       "7       Lifestyle           1755\n",
       "3           Funny           1056\n",
       "1       Education            871\n",
       "4          Horror            380"
      ]
     },
     "execution_count": 241,
     "metadata": {},
     "output_type": "execute_result"
    }
   ],
   "source": [
    "# make new dataframe for non-premium\n",
    "df_non_premium = df_eda_2[df_eda_2.is_premium==0][['play_duration', 'category_name']]\n",
    "# group by play_duration for category_name\n",
    "df_non_premium.groupby('category_name').play_duration.sum().reset_index().sort_values(by='play_duration', ascending=False)"
   ]
  },
  {
   "cell_type": "markdown",
   "metadata": {},
   "source": [
    "As we can see, TV Show is the most watched category by play_duration for non-premium users. But, TV Show and Movies naturally have longer duration in their content itself, so we cannot really know the most popular category for non-premium users only based on play_duration. In this case, I'm gonna count the total of non-premium users in every category, so we have another angle to look at this issue."
   ]
  },
  {
   "cell_type": "code",
   "execution_count": 242,
   "metadata": {},
   "outputs": [
    {
     "data": {
      "text/plain": [
       "TV Show          2609\n",
       "Movies           1849\n",
       "Entertainment     674\n",
       "Music             596\n",
       "News              437\n",
       "Vlog              312\n",
       "Sports            229\n",
       "Kids               43\n",
       "Lifestyle          40\n",
       "Champions          26\n",
       "Funny              19\n",
       "Education          15\n",
       "Korea              11\n",
       "Webtoon             6\n",
       "Horror              5\n",
       "Name: category_name, dtype: int64"
      ]
     },
     "execution_count": 242,
     "metadata": {},
     "output_type": "execute_result"
    }
   ],
   "source": [
    "# count total non-premium users in every category\n",
    "df_non_premium.category_name.value_counts()"
   ]
  },
  {
   "cell_type": "markdown",
   "metadata": {},
   "source": [
    "After we look at result above, the most popular category for non-premium users is indeed TV Show. Now, we compare it with the premium users ones."
   ]
  },
  {
   "cell_type": "code",
   "execution_count": 243,
   "metadata": {},
   "outputs": [
    {
     "data": {
      "text/html": [
       "<div>\n",
       "<style scoped>\n",
       "    .dataframe tbody tr th:only-of-type {\n",
       "        vertical-align: middle;\n",
       "    }\n",
       "\n",
       "    .dataframe tbody tr th {\n",
       "        vertical-align: top;\n",
       "    }\n",
       "\n",
       "    .dataframe thead th {\n",
       "        text-align: right;\n",
       "    }\n",
       "</style>\n",
       "<table border=\"1\" class=\"dataframe\">\n",
       "  <thead>\n",
       "    <tr style=\"text-align: right;\">\n",
       "      <th></th>\n",
       "      <th>category_name</th>\n",
       "      <th>play_duration</th>\n",
       "    </tr>\n",
       "  </thead>\n",
       "  <tbody>\n",
       "    <tr>\n",
       "      <th>3</th>\n",
       "      <td>Movies</td>\n",
       "      <td>1053269</td>\n",
       "    </tr>\n",
       "    <tr>\n",
       "      <th>5</th>\n",
       "      <td>Vlog</td>\n",
       "      <td>39328</td>\n",
       "    </tr>\n",
       "    <tr>\n",
       "      <th>1</th>\n",
       "      <td>Entertainment</td>\n",
       "      <td>4794</td>\n",
       "    </tr>\n",
       "    <tr>\n",
       "      <th>2</th>\n",
       "      <td>Kids</td>\n",
       "      <td>677</td>\n",
       "    </tr>\n",
       "    <tr>\n",
       "      <th>0</th>\n",
       "      <td>Education</td>\n",
       "      <td>0</td>\n",
       "    </tr>\n",
       "    <tr>\n",
       "      <th>4</th>\n",
       "      <td>Sports</td>\n",
       "      <td>0</td>\n",
       "    </tr>\n",
       "  </tbody>\n",
       "</table>\n",
       "</div>"
      ],
      "text/plain": [
       "   category_name  play_duration\n",
       "3         Movies        1053269\n",
       "5           Vlog          39328\n",
       "1  Entertainment           4794\n",
       "2           Kids            677\n",
       "0      Education              0\n",
       "4         Sports              0"
      ]
     },
     "execution_count": 243,
     "metadata": {},
     "output_type": "execute_result"
    }
   ],
   "source": [
    "# make new dataframe for premium\n",
    "df_premium = df_eda_2[df_eda_2.is_premium==1][['play_duration', 'category_name']]\n",
    "# group by play_duration for category_name\n",
    "df_premium.groupby('category_name').play_duration.sum().reset_index().sort_values(by='play_duration', ascending=False)"
   ]
  },
  {
   "cell_type": "code",
   "execution_count": 244,
   "metadata": {},
   "outputs": [
    {
     "data": {
      "text/plain": [
       "Movies           478\n",
       "Vlog              11\n",
       "Entertainment      5\n",
       "Sports             2\n",
       "Education          1\n",
       "Kids               1\n",
       "Name: category_name, dtype: int64"
      ]
     },
     "execution_count": 244,
     "metadata": {},
     "output_type": "execute_result"
    }
   ],
   "source": [
    "# count total non-premium users in every category\n",
    "df_premium.category_name.value_counts()"
   ]
  },
  {
   "cell_type": "markdown",
   "metadata": {},
   "source": [
    "For the premium users, Movies is the most popular category. For some reason we cannot see TV Show category listed above, this may be caused by NaN values that I note beforehand. So, for this case, we have to go with the conclusion. "
   ]
  },
  {
   "cell_type": "markdown",
   "metadata": {},
   "source": [
    "##### Summary:\n",
    "After looking at the result for both non-premium and premium users, we can conclude that:\n",
    "- The most popular category for non-premium users is: TV Show\n",
    "- The most popular category for premium users is: Movies\n",
    "\n",
    "The non-premium and premium users is indeed have different behavior in terms of category of content watched. From the premium users conclusion we can see that most of premium users watch Movies content, this may be the reason they subscribed to premium subscription. So, the first insight that I can offer is, improving the Movies content. For example, increasing the number of original/exclusive Movies content and make it watchable only by premium users. It may increase the premium subscribers, because the fans of the movie or its movie casts will have to subscribe to premium subscription in order to watch the movie. Fun fact, as of right now I'm a premium subscriber of vidio, and one of the reason I subscribed is that I like to watch God of Gambler movies (old movies with Chow Yun Fat, Andy Lau, Stephen Chow as casts) with my family. No other streaming services has God of Gambler in their movie list, so this insight is an actual proven method to raise premium subscriber count.\n",
    "\n",
    "Based on non-premium conclusion, TV Show is the most popular content. Thus, second insight I can recommend is, make some of the content in TV Show category only watchable by subscribing to premium subscription. For this case, I recommend TV Show contents that has a lot of viewer already (we can make another analysis about this) and has arguably long episodes and seasons. This may \"force\" non-premium watchers of these content to subscribe to premium. Or maybe new TV Shows, make it exclusively aired on vidio with premium subscription only. We need proper research and analysis about this though as it may backfire if not done right. But, logically, it has the potential to increase the number of premium users. \n",
    "\n",
    "Lastly, this may not be drawn directly from the data we have processed and analysed before, but this insight may be related to the ones I recommended before about exclusive contents. I personally think in near future, vidio will get a massive number of new premium subscribers from Premier League fans. Premier League has massive amount of fans in Indonesia (myself included). By getting the TV rights for this, vidio open a whole new section of premium subscribers."
   ]
  },
  {
   "cell_type": "markdown",
   "metadata": {},
   "source": [
    "### Question 3\n",
    "\n",
    "\n",
    "#### a. What kind of tools that you use to work on this dataset?"
   ]
  },
  {
   "cell_type": "markdown",
   "metadata": {},
   "source": [
    "For the tools, I use Python as scripting language and Jupyter Notebook to present and show the script results. I also used Python libraries such as:\n",
    "- Pandas, NumPy for data processing, engineering, and computing purposes.\n",
    "- Matplotlib for data visualization purposes. "
   ]
  },
  {
   "cell_type": "markdown",
   "metadata": {},
   "source": [
    "#### b. Please let us know why and describe the significant advantage of that tools."
   ]
  },
  {
   "cell_type": "markdown",
   "metadata": {},
   "source": [
    "In terms of familiarity, these tools are the ones I most familiar with. In terms of simplicity, these tools also has great advantages. With Jupyter Notebook, we can write codes and present the results in basically the same editor. It can also be used and fully compatible with many text editor softwares, for example Visual Studio Code (this is the text editor I use daily). So I think it's more simple and convenient. As for Python, I think Python is one of the most simple and popular programming language. It has many libraries that will do such wonders in codes with ease. Pandas, Numpy, Matplotlib, and other popular Python libraries basically enabling us to do data preprocessing and processing, data wrangling, data and feature engineering, exploratory, visualization, and many more in just a simple and few lines of code."
   ]
  },
  {
   "cell_type": "markdown",
   "metadata": {},
   "source": [
    "### Question 4\n",
    "\n",
    "\n",
    "#### How could we know the platform that user keenly used to watch? And how do you convince us that user are keenly watch on that platform? (For example, user keenly watch on web platform, because ... )"
   ]
  },
  {
   "cell_type": "markdown",
   "metadata": {},
   "source": [
    "We can find out the platform that user keenly used to watch by looking at the table below."
   ]
  },
  {
   "cell_type": "code",
   "execution_count": 245,
   "metadata": {},
   "outputs": [
    {
     "data": {
      "text/plain": [
       "web-mobile     61728\n",
       "app-android    25955\n",
       "web-desktop    10233\n",
       "tv-android      5930\n",
       "app-ios         1781\n",
       "tv-tizen        1031\n",
       "tv-webos         153\n",
       "Name: platform, dtype: int64"
      ]
     },
     "execution_count": 245,
     "metadata": {},
     "output_type": "execute_result"
    }
   ],
   "source": [
    "df['platform'].value_counts()"
   ]
  },
  {
   "cell_type": "markdown",
   "metadata": {},
   "source": [
    "We can see from the numbers above that web-mobile is the platform that user keenly used to watch vidio contents. We can plot this table into bar chart for better presentation."
   ]
  },
  {
   "cell_type": "code",
   "execution_count": 246,
   "metadata": {},
   "outputs": [
    {
     "data": {
      "text/plain": [
       "<AxesSubplot:>"
      ]
     },
     "execution_count": 246,
     "metadata": {},
     "output_type": "execute_result"
    },
    {
     "data": {
      "image/png": "[encoded data removed]",
      "text/plain": [
       "<Figure size 432x288 with 1 Axes>"
      ]
     },
     "metadata": {
      "needs_background": "light"
     },
     "output_type": "display_data"
    }
   ],
   "source": [
    "df['platform'].value_counts().plot(kind='barh')"
   ]
  },
  {
   "cell_type": "markdown",
   "metadata": {},
   "source": [
    "From the chart above, we can see that web-mobile platform is the popular one for vidio users. One of the main reasons for that is, in Indonesia, the Smartphone Penetration Rate is on 75.4% which is considerably high. So, it makes sense that most Indonesian people used their smartphones to access internet contents. As for web platform, most people tend to avoid downloading apps for some reasons. The most common ones are user data security issues, app permission issues, and phone memory issues. Other than that, sometimes people just want to access the app temporarily, they don't plan to use the app regularly. So web platform may be simpler and easier for most users. \n",
    "\n",
    "I'm gonna find out more about platform used by premium users as we know premium and non-premium users has different behavior. This is just another analysis, but maybe some insight can be extracted from this.  "
   ]
  },
  {
   "cell_type": "code",
   "execution_count": 247,
   "metadata": {},
   "outputs": [
    {
     "data": {
      "text/plain": [
       "<AxesSubplot:ylabel='platform'>"
      ]
     },
     "execution_count": 247,
     "metadata": {},
     "output_type": "execute_result"
    },
    {
     "data": {
      "image/png": "[encoded data removed]",
      "text/plain": [
       "<Figure size 432x288 with 1 Axes>"
      ]
     },
     "metadata": {
      "needs_background": "light"
     },
     "output_type": "display_data"
    }
   ],
   "source": [
    "df.groupby('platform')['is_premium'].sum().plot(kind='barh')"
   ]
  },
  {
   "cell_type": "markdown",
   "metadata": {},
   "source": [
    "So, as we can see from chart above, app-android is the most used platform for premium users. If there's any objectives to increase the app platform use, we can focus more on drawing people to subscribe to premium subscription, because we can see that most premium users use app platform, as they might think they invested something or hooked to some contents in vidio that makes them want to watch vidio contents regularly, so they download the app. We can also put more focus to android, because from previous chart we can see that android is the 2nd most popular platform used by users. Also, in chart above android is the most popular platform by a landslide. Lastly, android also the most used mobile OS by people in Indonesia (91.57% from https://gs.statcounter.com/os-market-share/mobile/indonesia)."
   ]
  },
  {
   "cell_type": "markdown",
   "metadata": {},
   "source": [
    "### Question 5\n",
    "\n",
    "\n",
    "#### Could you list top 10 visitors by using play_duration per day?"
   ]
  },
  {
   "cell_type": "markdown",
   "metadata": {},
   "source": [
    "We can list top 10 visitors using groupby function from pandas. Here is the top 10 visitor by play_duration."
   ]
  },
  {
   "cell_type": "code",
   "execution_count": 248,
   "metadata": {},
   "outputs": [
    {
     "data": {
      "text/html": [
       "<div>\n",
       "<style scoped>\n",
       "    .dataframe tbody tr th:only-of-type {\n",
       "        vertical-align: middle;\n",
       "    }\n",
       "\n",
       "    .dataframe tbody tr th {\n",
       "        vertical-align: top;\n",
       "    }\n",
       "\n",
       "    .dataframe thead th {\n",
       "        text-align: right;\n",
       "    }\n",
       "</style>\n",
       "<table border=\"1\" class=\"dataframe\">\n",
       "  <thead>\n",
       "    <tr style=\"text-align: right;\">\n",
       "      <th></th>\n",
       "      <th>hash_visit_id</th>\n",
       "      <th>play_duration</th>\n",
       "    </tr>\n",
       "  </thead>\n",
       "  <tbody>\n",
       "    <tr>\n",
       "      <th>22837</th>\n",
       "      <td>36de068c3b8f6564499458e706067d485647367eb43468...</td>\n",
       "      <td>82455</td>\n",
       "    </tr>\n",
       "    <tr>\n",
       "      <th>15937</th>\n",
       "      <td>2641d009322cbad3ced7a1a287a80c8d277b7d684bd3f0...</td>\n",
       "      <td>77280</td>\n",
       "    </tr>\n",
       "    <tr>\n",
       "      <th>42963</th>\n",
       "      <td>6773123db55eb39712c3f79517cd9f0a13b977e6b75f98...</td>\n",
       "      <td>55080</td>\n",
       "    </tr>\n",
       "    <tr>\n",
       "      <th>69077</th>\n",
       "      <td>a590924df415418aced8863d908d491783d3e7731bde68...</td>\n",
       "      <td>52905</td>\n",
       "    </tr>\n",
       "    <tr>\n",
       "      <th>82611</th>\n",
       "      <td>c675dd371ae64744531e9a21442f5d12c5f2e3e27d91de...</td>\n",
       "      <td>46410</td>\n",
       "    </tr>\n",
       "    <tr>\n",
       "      <th>2969</th>\n",
       "      <td>06fa5662f1edf6188e4cb966f51bb8835a88c52446d4f0...</td>\n",
       "      <td>42750</td>\n",
       "    </tr>\n",
       "    <tr>\n",
       "      <th>89984</th>\n",
       "      <td>d84accbf1d6b3b309ea852208b44d2095d9f69d1d5b926...</td>\n",
       "      <td>42120</td>\n",
       "    </tr>\n",
       "    <tr>\n",
       "      <th>76775</th>\n",
       "      <td>b853f83bcd6d1a7443bada1d30e7c7125c06f421b63354...</td>\n",
       "      <td>41580</td>\n",
       "    </tr>\n",
       "    <tr>\n",
       "      <th>76</th>\n",
       "      <td>003064d0327fcd20e8d7040374ef57da98716eefc91d19...</td>\n",
       "      <td>41265</td>\n",
       "    </tr>\n",
       "    <tr>\n",
       "      <th>3339</th>\n",
       "      <td>07f29ca0f436bdae4fa21b9c063b3ee1a539d11bf08f87...</td>\n",
       "      <td>40710</td>\n",
       "    </tr>\n",
       "  </tbody>\n",
       "</table>\n",
       "</div>"
      ],
      "text/plain": [
       "                                           hash_visit_id  play_duration\n",
       "22837  36de068c3b8f6564499458e706067d485647367eb43468...          82455\n",
       "15937  2641d009322cbad3ced7a1a287a80c8d277b7d684bd3f0...          77280\n",
       "42963  6773123db55eb39712c3f79517cd9f0a13b977e6b75f98...          55080\n",
       "69077  a590924df415418aced8863d908d491783d3e7731bde68...          52905\n",
       "82611  c675dd371ae64744531e9a21442f5d12c5f2e3e27d91de...          46410\n",
       "2969   06fa5662f1edf6188e4cb966f51bb8835a88c52446d4f0...          42750\n",
       "89984  d84accbf1d6b3b309ea852208b44d2095d9f69d1d5b926...          42120\n",
       "76775  b853f83bcd6d1a7443bada1d30e7c7125c06f421b63354...          41580\n",
       "76     003064d0327fcd20e8d7040374ef57da98716eefc91d19...          41265\n",
       "3339   07f29ca0f436bdae4fa21b9c063b3ee1a539d11bf08f87...          40710"
      ]
     },
     "execution_count": 248,
     "metadata": {},
     "output_type": "execute_result"
    }
   ],
   "source": [
    "df.groupby('hash_visit_id')['play_duration'].sum().reset_index().sort_values(by='play_duration', ascending=False).head(10)"
   ]
  }
 ],
 "metadata": {
  "kernelspec": {
   "display_name": "Python 3.9.7 64-bit",
   "language": "python",
   "name": "python3"
  },
  "language_info": {
   "codemirror_mode": {
    "name": "ipython",
    "version": 3
   },
   "file_extension": ".py",
   "mimetype": "text/x-python",
   "name": "python",
   "nbconvert_exporter": "python",
   "pygments_lexer": "ipython3",
   "version": "3.9.7"
  },
  "orig_nbformat": 4,
  "vscode": {
   "interpreter": {
    "hash": "aee8b7b246df8f9039afb4144a1f6fd8d2ca17a180786b69acc140d282b71a49"
   }
  }
 },
 "nbformat": 4,
 "nbformat_minor": 2
}
